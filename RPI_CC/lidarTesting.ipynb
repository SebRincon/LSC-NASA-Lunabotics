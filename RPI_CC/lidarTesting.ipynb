{
 "cells": [
  {
   "cell_type": "code",
   "execution_count": 6,
   "metadata": {},
   "outputs": [
    {
     "name": "stdout",
     "output_type": "stream",
     "text": [
      "5000\n"
     ]
    }
   ],
   "source": [
    "distance = 10000\n",
    "max_distance = 0\n",
    "max_test = max([min([5000, distance]), max_distance])\n",
    "print(max_test)"
   ]
  },
  {
   "cell_type": "code",
   "execution_count": 3,
   "metadata": {},
   "outputs": [
    {
     "ename": "IndexError",
     "evalue": "list index out of range",
     "output_type": "error",
     "traceback": [
      "\u001b[1;31m---------------------------------------------------------------------------\u001b[0m",
      "\u001b[1;31mIndexError\u001b[0m                                Traceback (most recent call last)",
      "\u001b[1;32mc:\\Users\\sebas\\Desktop\\cyfair_lunabotics-master\\RPI_CC\\lidarTesting.ipynb Cell 2'\u001b[0m in \u001b[0;36m<cell line: 2>\u001b[1;34m()\u001b[0m\n\u001b[0;32m      <a href='vscode-notebook-cell:/c%3A/Users/sebas/Desktop/cyfair_lunabotics-master/RPI_CC/lidarTesting.ipynb#ch0000006?line=0'>1</a>\u001b[0m data \u001b[39m=\u001b[39m [\u001b[39m0\u001b[39m \u001b[39m*\u001b[39m \u001b[39m360\u001b[39m]\n\u001b[0;32m      <a href='vscode-notebook-cell:/c%3A/Users/sebas/Desktop/cyfair_lunabotics-master/RPI_CC/lidarTesting.ipynb#ch0000006?line=1'>2</a>\u001b[0m \u001b[39mfor\u001b[39;00m angle \u001b[39min\u001b[39;00m \u001b[39mrange\u001b[39m(\u001b[39m360\u001b[39m):\n\u001b[1;32m----> <a href='vscode-notebook-cell:/c%3A/Users/sebas/Desktop/cyfair_lunabotics-master/RPI_CC/lidarTesting.ipynb#ch0000006?line=2'>3</a>\u001b[0m         distance \u001b[39m=\u001b[39m data[angle]\n\u001b[0;32m      <a href='vscode-notebook-cell:/c%3A/Users/sebas/Desktop/cyfair_lunabotics-master/RPI_CC/lidarTesting.ipynb#ch0000006?line=3'>4</a>\u001b[0m         distance\n",
      "\u001b[1;31mIndexError\u001b[0m: list index out of range"
     ]
    }
   ],
   "source": []
  },
  {
   "cell_type": "code",
   "execution_count": 9,
   "metadata": {},
   "outputs": [
    {
     "name": "stdout",
     "output_type": "stream",
     "text": [
      "[0, 0, 0, 0, 0, 0, 0, 0, 0, 0, 0, 0, 0, 0, 0, 0, 0, 0, 0, 0, 0, 0, 0, 0, 0, 0, 0, 0, 0, 0, 0, 0, 0, 0, 0, 0, 0, 0, 0, 0, 0, 0, 0, 0, 0, 0, 0, 0, 0, 0, 0, 0, 0, 0, 0, 0, 0, 0, 0, 0, 0, 0, 0, 0, 0, 0, 0, 0, 0, 0, 0, 0, 0, 0, 0, 0, 0, 0, 0, 0, 0, 0, 0, 0, 0, 0, 0, 0, 0, 0, 0, 0, 0, 0, 0, 0, 0, 0, 0, 0, 0, 0, 0, 0, 0, 0, 0, 0, 0, 0, 0, 0, 0, 0, 0, 0, 0, 0, 0, 0, 0, 0, 0, 0, 0, 0, 0, 0, 0, 0, 0, 0, 0, 0, 0, 0, 0, 0, 0, 0, 0, 0, 0, 0, 0, 0, 0, 0, 0, 0, 0, 0, 0, 0, 0, 0, 0, 0, 0, 0, 0, 0, 0, 0, 0, 0, 0, 0, 0, 0, 0, 0, 0, 0, 0, 0, 0, 0, 0, 0, 0, 0, 0, 0, 0, 0, 0, 0, 0, 0, 0, 0, 0, 0, 0, 0, 0, 0, 0, 0, 0, 0, 0, 0, 0, 0, 0, 0, 0, 0, 0, 0, 0, 0, 0, 0, 0, 0, 0, 0, 0, 0, 0, 0, 0, 0, 0, 0, 0, 0, 0, 0, 0, 0, 0, 0, 0, 0, 0, 0, 0, 0, 0, 0, 0, 0, 0, 0, 0, 0, 0, 0, 0, 0, 0, 0, 0, 0, 0, 0, 0, 0, 0, 0, 0, 0, 0, 0, 0, 0, 0, 0, 0, 0, 0, 0, 0, 0, 0, 0, 0, 0, 0, 0, 0, 0, 0, 0, 0, 0, 0, 0, 0, 0, 0, 0, 0, 0, 0, 0, 0, 0, 0, 0, 0, 0, 0, 0, 0, 0, 0, 0, 0, 0, 0, 0, 0, 0, 0, 0, 0, 0, 0, 0, 0, 0, 0, 0, 0, 0, 0, 0, 0, 0, 0, 0, 0, 0, 0, 0, 0, 0, 0, 0, 0, 0, 0, 0, 0, 0, 0, 0, 0, 0, 0, 0, 0, 0, 0, 0]\n"
     ]
    }
   ],
   "source": [
    "array = [0]*360\n",
    "print(array)"
   ]
  },
  {
   "cell_type": "code",
   "execution_count": 14,
   "metadata": {},
   "outputs": [
    {
     "name": "stdout",
     "output_type": "stream",
     "text": [
      "[[ 1  2  3  4]\n",
      " [ 5  6  7  8]\n",
      " [ 9 10 11 12]]\n"
     ]
    }
   ],
   "source": [
    "import numpy as np\n",
    "a = np.array([[1, 2, 3, 4], [5, 6, 7, 8], [9, 10, 11, 12]])\n",
    "a.reshape\n",
    "\n",
    "\n",
    "print(a)"
   ]
  },
  {
   "cell_type": "code",
   "execution_count": 11,
   "metadata": {},
   "outputs": [
    {
     "data": {
      "text/plain": [
       "array([    0,     1,     2, ..., 76797, 76798, 76799])"
      ]
     },
     "execution_count": 11,
     "metadata": {},
     "output_type": "execute_result"
    }
   ],
   "source": [
    "\n",
    "x = np.arange(76800).reshape(320, 240)\n",
    "x\n",
    "\n",
    "y = x.flatten()\n",
    "\n",
    "y\n",
    "\n"
   ]
  },
  {
   "cell_type": "code",
   "execution_count": 8,
   "metadata": {},
   "outputs": [
    {
     "data": {
      "text/plain": [
       "482"
      ]
     },
     "execution_count": 8,
     "metadata": {},
     "output_type": "execute_result"
    }
   ],
   "source": [
    "import numpy as np\n",
    "x = np.arange(76800).reshape(320, 240)\n",
    "\n",
    "slice = x[2,2]\n",
    "slice\n",
    "\n"
   ]
  },
  {
   "cell_type": "code",
   "execution_count": null,
   "metadata": {},
   "outputs": [],
   "source": []
  },
  {
   "cell_type": "code",
   "execution_count": 9,
   "metadata": {},
   "outputs": [
    {
     "data": {
      "text/plain": [
       "array([[    0,     1,     2, ...,   237,   238,   239],\n",
       "       [  240,   241,   242, ...,   477,   478,   479],\n",
       "       [  480,   481,   482, ...,   717,   718,   719],\n",
       "       ...,\n",
       "       [76080, 76081, 76082, ..., 76317, 76318, 76319],\n",
       "       [76320, 76321, 76322, ..., 76557, 76558, 76559],\n",
       "       [76560, 76561, 76562, ..., 76797, 76798, 76799]])"
      ]
     },
     "execution_count": 9,
     "metadata": {},
     "output_type": "execute_result"
    }
   ],
   "source": [
    "import numpy as np\n",
    "scan_data = [0]*360\n",
    "degrees = np.arange(320 * 240).reshape(320, 240)\n",
    "\n",
    "degrees"
   ]
  },
  {
   "cell_type": "code",
   "execution_count": 2,
   "metadata": {},
   "outputs": [
    {
     "name": "stdout",
     "output_type": "stream",
     "text": [
      "OK\n"
     ]
    }
   ],
   "source": [
    "i = 1 \n",
    "if i:\n",
    "    print('OK')"
   ]
  },
  {
   "cell_type": "code",
   "execution_count": 14,
   "metadata": {},
   "outputs": [
    {
     "ename": "RPLidarException",
     "evalue": "Failed to connect to the sensor due to: could not open port 'COM4': PermissionError(13, 'Access is denied.', None, 5)",
     "output_type": "error",
     "traceback": [
      "\u001b[1;31m---------------------------------------------------------------------------\u001b[0m",
      "\u001b[1;31mSerialException\u001b[0m                           Traceback (most recent call last)",
      "File \u001b[1;32m~\\AppData\\Local\\Packages\\PythonSoftwareFoundation.Python.3.8_qbz5n2kfra8p0\\LocalCache\\local-packages\\Python38\\site-packages\\rplidar.py:143\u001b[0m, in \u001b[0;36mRPLidar.connect\u001b[1;34m(self)\u001b[0m\n\u001b[0;32m    <a href='file:///c%3A/Users/sebas/AppData/Local/Packages/PythonSoftwareFoundation.Python.3.8_qbz5n2kfra8p0/LocalCache/local-packages/Python38/site-packages/rplidar.py?line=141'>142</a>\u001b[0m \u001b[39mtry\u001b[39;00m:\n\u001b[1;32m--> <a href='file:///c%3A/Users/sebas/AppData/Local/Packages/PythonSoftwareFoundation.Python.3.8_qbz5n2kfra8p0/LocalCache/local-packages/Python38/site-packages/rplidar.py?line=142'>143</a>\u001b[0m     \u001b[39mself\u001b[39m\u001b[39m.\u001b[39m_serial \u001b[39m=\u001b[39m serial\u001b[39m.\u001b[39;49mSerial(\n\u001b[0;32m    <a href='file:///c%3A/Users/sebas/AppData/Local/Packages/PythonSoftwareFoundation.Python.3.8_qbz5n2kfra8p0/LocalCache/local-packages/Python38/site-packages/rplidar.py?line=143'>144</a>\u001b[0m         \u001b[39mself\u001b[39;49m\u001b[39m.\u001b[39;49mport, \u001b[39mself\u001b[39;49m\u001b[39m.\u001b[39;49mbaudrate,\n\u001b[0;32m    <a href='file:///c%3A/Users/sebas/AppData/Local/Packages/PythonSoftwareFoundation.Python.3.8_qbz5n2kfra8p0/LocalCache/local-packages/Python38/site-packages/rplidar.py?line=144'>145</a>\u001b[0m         parity\u001b[39m=\u001b[39;49mserial\u001b[39m.\u001b[39;49mPARITY_NONE, stopbits\u001b[39m=\u001b[39;49mserial\u001b[39m.\u001b[39;49mSTOPBITS_ONE,\n\u001b[0;32m    <a href='file:///c%3A/Users/sebas/AppData/Local/Packages/PythonSoftwareFoundation.Python.3.8_qbz5n2kfra8p0/LocalCache/local-packages/Python38/site-packages/rplidar.py?line=145'>146</a>\u001b[0m         timeout\u001b[39m=\u001b[39;49m\u001b[39mself\u001b[39;49m\u001b[39m.\u001b[39;49mtimeout)\n\u001b[0;32m    <a href='file:///c%3A/Users/sebas/AppData/Local/Packages/PythonSoftwareFoundation.Python.3.8_qbz5n2kfra8p0/LocalCache/local-packages/Python38/site-packages/rplidar.py?line=146'>147</a>\u001b[0m \u001b[39mexcept\u001b[39;00m serial\u001b[39m.\u001b[39mSerialException \u001b[39mas\u001b[39;00m err:\n",
      "File \u001b[1;32m~\\AppData\\Local\\Packages\\PythonSoftwareFoundation.Python.3.8_qbz5n2kfra8p0\\LocalCache\\local-packages\\Python38\\site-packages\\serial\\serialwin32.py:33\u001b[0m, in \u001b[0;36mSerial.__init__\u001b[1;34m(self, *args, **kwargs)\u001b[0m\n\u001b[0;32m     <a href='file:///c%3A/Users/sebas/AppData/Local/Packages/PythonSoftwareFoundation.Python.3.8_qbz5n2kfra8p0/LocalCache/local-packages/Python38/site-packages/serial/serialwin32.py?line=31'>32</a>\u001b[0m \u001b[39mself\u001b[39m\u001b[39m.\u001b[39m_overlapped_write \u001b[39m=\u001b[39m \u001b[39mNone\u001b[39;00m\n\u001b[1;32m---> <a href='file:///c%3A/Users/sebas/AppData/Local/Packages/PythonSoftwareFoundation.Python.3.8_qbz5n2kfra8p0/LocalCache/local-packages/Python38/site-packages/serial/serialwin32.py?line=32'>33</a>\u001b[0m \u001b[39msuper\u001b[39;49m(Serial, \u001b[39mself\u001b[39;49m)\u001b[39m.\u001b[39;49m\u001b[39m__init__\u001b[39;49m(\u001b[39m*\u001b[39;49margs, \u001b[39m*\u001b[39;49m\u001b[39m*\u001b[39;49mkwargs)\n",
      "File \u001b[1;32m~\\AppData\\Local\\Packages\\PythonSoftwareFoundation.Python.3.8_qbz5n2kfra8p0\\LocalCache\\local-packages\\Python38\\site-packages\\serial\\serialutil.py:244\u001b[0m, in \u001b[0;36mSerialBase.__init__\u001b[1;34m(self, port, baudrate, bytesize, parity, stopbits, timeout, xonxoff, rtscts, write_timeout, dsrdtr, inter_byte_timeout, exclusive, **kwargs)\u001b[0m\n\u001b[0;32m    <a href='file:///c%3A/Users/sebas/AppData/Local/Packages/PythonSoftwareFoundation.Python.3.8_qbz5n2kfra8p0/LocalCache/local-packages/Python38/site-packages/serial/serialutil.py?line=242'>243</a>\u001b[0m \u001b[39mif\u001b[39;00m port \u001b[39mis\u001b[39;00m \u001b[39mnot\u001b[39;00m \u001b[39mNone\u001b[39;00m:\n\u001b[1;32m--> <a href='file:///c%3A/Users/sebas/AppData/Local/Packages/PythonSoftwareFoundation.Python.3.8_qbz5n2kfra8p0/LocalCache/local-packages/Python38/site-packages/serial/serialutil.py?line=243'>244</a>\u001b[0m     \u001b[39mself\u001b[39;49m\u001b[39m.\u001b[39;49mopen()\n",
      "File \u001b[1;32m~\\AppData\\Local\\Packages\\PythonSoftwareFoundation.Python.3.8_qbz5n2kfra8p0\\LocalCache\\local-packages\\Python38\\site-packages\\serial\\serialwin32.py:64\u001b[0m, in \u001b[0;36mSerial.open\u001b[1;34m(self)\u001b[0m\n\u001b[0;32m     <a href='file:///c%3A/Users/sebas/AppData/Local/Packages/PythonSoftwareFoundation.Python.3.8_qbz5n2kfra8p0/LocalCache/local-packages/Python38/site-packages/serial/serialwin32.py?line=62'>63</a>\u001b[0m     \u001b[39mself\u001b[39m\u001b[39m.\u001b[39m_port_handle \u001b[39m=\u001b[39m \u001b[39mNone\u001b[39;00m    \u001b[39m# 'cause __del__ is called anyway\u001b[39;00m\n\u001b[1;32m---> <a href='file:///c%3A/Users/sebas/AppData/Local/Packages/PythonSoftwareFoundation.Python.3.8_qbz5n2kfra8p0/LocalCache/local-packages/Python38/site-packages/serial/serialwin32.py?line=63'>64</a>\u001b[0m     \u001b[39mraise\u001b[39;00m SerialException(\u001b[39m\"\u001b[39m\u001b[39mcould not open port \u001b[39m\u001b[39m{!r}\u001b[39;00m\u001b[39m: \u001b[39m\u001b[39m{!r}\u001b[39;00m\u001b[39m\"\u001b[39m\u001b[39m.\u001b[39mformat(\u001b[39mself\u001b[39m\u001b[39m.\u001b[39mportstr, ctypes\u001b[39m.\u001b[39mWinError()))\n\u001b[0;32m     <a href='file:///c%3A/Users/sebas/AppData/Local/Packages/PythonSoftwareFoundation.Python.3.8_qbz5n2kfra8p0/LocalCache/local-packages/Python38/site-packages/serial/serialwin32.py?line=65'>66</a>\u001b[0m \u001b[39mtry\u001b[39;00m:\n",
      "\u001b[1;31mSerialException\u001b[0m: could not open port 'COM4': PermissionError(13, 'Access is denied.', None, 5)",
      "\nDuring handling of the above exception, another exception occurred:\n",
      "\u001b[1;31mRPLidarException\u001b[0m                          Traceback (most recent call last)",
      "\u001b[1;32mc:\\Users\\sebas\\Desktop\\cyfair_lunabotics-master\\RPI_CC\\lidarTesting.ipynb Cell 9'\u001b[0m in \u001b[0;36m<cell line: 15>\u001b[1;34m()\u001b[0m\n\u001b[0;32m     <a href='vscode-notebook-cell:/c%3A/Users/sebas/Desktop/cyfair_lunabotics-master/RPI_CC/lidarTesting.ipynb#ch0000005?line=12'>13</a>\u001b[0m \u001b[39m# Setup the RPLidar\u001b[39;00m\n\u001b[0;32m     <a href='vscode-notebook-cell:/c%3A/Users/sebas/Desktop/cyfair_lunabotics-master/RPI_CC/lidarTesting.ipynb#ch0000005?line=13'>14</a>\u001b[0m PORT_NAME \u001b[39m=\u001b[39m \u001b[39m'\u001b[39m\u001b[39mCOM4\u001b[39m\u001b[39m'\u001b[39m\n\u001b[1;32m---> <a href='vscode-notebook-cell:/c%3A/Users/sebas/Desktop/cyfair_lunabotics-master/RPI_CC/lidarTesting.ipynb#ch0000005?line=14'>15</a>\u001b[0m lidar \u001b[39m=\u001b[39m RPLidar(PORT_NAME)\n\u001b[0;32m     <a href='vscode-notebook-cell:/c%3A/Users/sebas/Desktop/cyfair_lunabotics-master/RPI_CC/lidarTesting.ipynb#ch0000005?line=15'>16</a>\u001b[0m lidar\u001b[39m.\u001b[39mstop_motor()\n\u001b[0;32m     <a href='vscode-notebook-cell:/c%3A/Users/sebas/Desktop/cyfair_lunabotics-master/RPI_CC/lidarTesting.ipynb#ch0000005?line=16'>17</a>\u001b[0m \u001b[39minput\u001b[39m(\u001b[39m'\u001b[39m\u001b[39mGo?: \u001b[39m\u001b[39m'\u001b[39m)\n",
      "File \u001b[1;32m~\\AppData\\Local\\Packages\\PythonSoftwareFoundation.Python.3.8_qbz5n2kfra8p0\\LocalCache\\local-packages\\Python38\\site-packages\\rplidar.py:135\u001b[0m, in \u001b[0;36mRPLidar.__init__\u001b[1;34m(self, port, baudrate, timeout, logger)\u001b[0m\n\u001b[0;32m    <a href='file:///c%3A/Users/sebas/AppData/Local/Packages/PythonSoftwareFoundation.Python.3.8_qbz5n2kfra8p0/LocalCache/local-packages/Python38/site-packages/rplidar.py?line=132'>133</a>\u001b[0m     logger \u001b[39m=\u001b[39m logging\u001b[39m.\u001b[39mgetLogger(\u001b[39m'\u001b[39m\u001b[39mrplidar\u001b[39m\u001b[39m'\u001b[39m)\n\u001b[0;32m    <a href='file:///c%3A/Users/sebas/AppData/Local/Packages/PythonSoftwareFoundation.Python.3.8_qbz5n2kfra8p0/LocalCache/local-packages/Python38/site-packages/rplidar.py?line=133'>134</a>\u001b[0m \u001b[39mself\u001b[39m\u001b[39m.\u001b[39mlogger \u001b[39m=\u001b[39m logger\n\u001b[1;32m--> <a href='file:///c%3A/Users/sebas/AppData/Local/Packages/PythonSoftwareFoundation.Python.3.8_qbz5n2kfra8p0/LocalCache/local-packages/Python38/site-packages/rplidar.py?line=134'>135</a>\u001b[0m \u001b[39mself\u001b[39;49m\u001b[39m.\u001b[39;49mconnect()\n",
      "File \u001b[1;32m~\\AppData\\Local\\Packages\\PythonSoftwareFoundation.Python.3.8_qbz5n2kfra8p0\\LocalCache\\local-packages\\Python38\\site-packages\\rplidar.py:148\u001b[0m, in \u001b[0;36mRPLidar.connect\u001b[1;34m(self)\u001b[0m\n\u001b[0;32m    <a href='file:///c%3A/Users/sebas/AppData/Local/Packages/PythonSoftwareFoundation.Python.3.8_qbz5n2kfra8p0/LocalCache/local-packages/Python38/site-packages/rplidar.py?line=142'>143</a>\u001b[0m     \u001b[39mself\u001b[39m\u001b[39m.\u001b[39m_serial \u001b[39m=\u001b[39m serial\u001b[39m.\u001b[39mSerial(\n\u001b[0;32m    <a href='file:///c%3A/Users/sebas/AppData/Local/Packages/PythonSoftwareFoundation.Python.3.8_qbz5n2kfra8p0/LocalCache/local-packages/Python38/site-packages/rplidar.py?line=143'>144</a>\u001b[0m         \u001b[39mself\u001b[39m\u001b[39m.\u001b[39mport, \u001b[39mself\u001b[39m\u001b[39m.\u001b[39mbaudrate,\n\u001b[0;32m    <a href='file:///c%3A/Users/sebas/AppData/Local/Packages/PythonSoftwareFoundation.Python.3.8_qbz5n2kfra8p0/LocalCache/local-packages/Python38/site-packages/rplidar.py?line=144'>145</a>\u001b[0m         parity\u001b[39m=\u001b[39mserial\u001b[39m.\u001b[39mPARITY_NONE, stopbits\u001b[39m=\u001b[39mserial\u001b[39m.\u001b[39mSTOPBITS_ONE,\n\u001b[0;32m    <a href='file:///c%3A/Users/sebas/AppData/Local/Packages/PythonSoftwareFoundation.Python.3.8_qbz5n2kfra8p0/LocalCache/local-packages/Python38/site-packages/rplidar.py?line=145'>146</a>\u001b[0m         timeout\u001b[39m=\u001b[39m\u001b[39mself\u001b[39m\u001b[39m.\u001b[39mtimeout)\n\u001b[0;32m    <a href='file:///c%3A/Users/sebas/AppData/Local/Packages/PythonSoftwareFoundation.Python.3.8_qbz5n2kfra8p0/LocalCache/local-packages/Python38/site-packages/rplidar.py?line=146'>147</a>\u001b[0m \u001b[39mexcept\u001b[39;00m serial\u001b[39m.\u001b[39mSerialException \u001b[39mas\u001b[39;00m err:\n\u001b[1;32m--> <a href='file:///c%3A/Users/sebas/AppData/Local/Packages/PythonSoftwareFoundation.Python.3.8_qbz5n2kfra8p0/LocalCache/local-packages/Python38/site-packages/rplidar.py?line=147'>148</a>\u001b[0m     \u001b[39mraise\u001b[39;00m RPLidarException(\u001b[39m'\u001b[39m\u001b[39mFailed to connect to the sensor \u001b[39m\u001b[39m'\u001b[39m\n\u001b[0;32m    <a href='file:///c%3A/Users/sebas/AppData/Local/Packages/PythonSoftwareFoundation.Python.3.8_qbz5n2kfra8p0/LocalCache/local-packages/Python38/site-packages/rplidar.py?line=148'>149</a>\u001b[0m                            \u001b[39m'\u001b[39m\u001b[39mdue to: \u001b[39m\u001b[39m%s\u001b[39;00m\u001b[39m'\u001b[39m \u001b[39m%\u001b[39m err)\n",
      "\u001b[1;31mRPLidarException\u001b[0m: Failed to connect to the sensor due to: could not open port 'COM4': PermissionError(13, 'Access is denied.', None, 5)"
     ]
    }
   ],
   "source": [
    "import numpy as np \n",
    "import pygame\n",
    "from rplidar import RPLidar\n",
    "from math import cos, sin, pi, floor\n",
    "\n",
    "# Set up pygame and the display\n",
    "pygame.init()\n",
    "lcd = pygame.display.set_mode((320,240))\n",
    "pygame.mouse.set_visible(False)\n",
    "lcd.fill((0,0,0))\n",
    "pygame.display.update()\n",
    "\n",
    "# Setup the RPLidar\n",
    "PORT_NAME = 'COM4'\n",
    "lidar = RPLidar(PORT_NAME)\n",
    "lidar.stop_motor()\n",
    "input('Go?: ')\n",
    "scan_data = [0]*360\n",
    "\n",
    "\n",
    "degrees = np.array(scan_data).reshape(4,90)\n",
    "max_distance = 0\n",
    "foo = 0\n",
    "\n",
    "def process_data(data,foo):\n",
    "    global max_distance\n",
    "    lcd.fill((0,0,0))\n",
    "    \n",
    "    \n",
    "    for angle in range(360):\n",
    "        # if foo == 50:\n",
    "        #     print(data)\n",
    "        #     print(len(data))\n",
    "        \n",
    "        distance = data[angle]\n",
    "        if distance > 0:                  # ignore initially ungathered data points\n",
    "            max_distance = max([min([5000, distance]), max_distance])\n",
    "            radians = angle * pi / 180.0\n",
    "            x = distance * cos(radians)\n",
    "            y = distance * sin(radians)\n",
    "            point = (160 + int(x / max_distance * 119), 120 + int(y / max_distance * 119))  # (1,2) \n",
    "            lcd.set_at(point, pygame.Color(255, 255, 255))\n",
    "    pygame.display.update()\n",
    "\n",
    "\n",
    "\n",
    "try:\n",
    "    for i, scan in enumerate(lidar.iter_scans()):\n",
    "        for (quality, angle, distance) in scan:\n",
    "            if angle >= 0 and angle <= 90:\n",
    "                scan_data[min([359, floor(angle)])] = distance\n",
    "                degrees[0][min([359, floor(angle)])] = distance\n",
    "            elif angle > 90 and angle <= 180:\n",
    "                scan_data[min([359, floor(angle)])] = distance\n",
    "                degrees[1][min([359, floor(angle) - 90 ])] = distance\n",
    "            elif angle > 180 and angle <= 270:\n",
    "                scan_data[min([359, floor(angle)])] = distance\n",
    "                degrees[2][min([359, floor(angle) - 180])] = distance\n",
    "            elif angle > 270 and angle <=360:\n",
    "                scan_data[min([359, floor(angle)])] = distance\n",
    "                degrees[3][min([359, floor(angle) - 270])] = distance\n",
    "\n",
    "                \n",
    "                # if foo == 50:\n",
    "                #     print(f'Quality: {quality}')\n",
    "                #     print(f'Angle: {angle}')\n",
    "                #     print(f'Distance: {distance}')\n",
    "        foo += 1\n",
    "        if foo == 50:\n",
    "            print(degrees)\n",
    "        process_data(scan_data,foo)\n",
    "\n",
    "\n",
    "except KeyboardInterrupt:\n",
    "    print('Stoping.')\n",
    "lidar.stop()\n",
    "lidar.disconnect()"
   ]
  }
 ],
 "metadata": {
  "interpreter": {
   "hash": "e0da496c11afc757f43f6f508edfd8b73628c991e441278d49364dd2bbabae0d"
  },
  "kernelspec": {
   "display_name": "Python 3.9.10 ('RMC-xw-3MSRf')",
   "language": "python",
   "name": "python3"
  },
  "language_info": {
   "codemirror_mode": {
    "name": "ipython",
    "version": 3
   },
   "file_extension": ".py",
   "mimetype": "text/x-python",
   "name": "python",
   "nbconvert_exporter": "python",
   "pygments_lexer": "ipython3",
   "version": "3.8.10"
  },
  "orig_nbformat": 4
 },
 "nbformat": 4,
 "nbformat_minor": 2
}
